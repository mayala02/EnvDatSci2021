{
  "cells": [
    {
      "cell_type": "markdown",
      "metadata": {
        "id": "view-in-github",
        "colab_type": "text"
      },
      "source": [
        "<a href=\"https://colab.research.google.com/github/mayala02/EnvDatSci2021/blob/main/Automatic_Data_Downloads_checkpoint.ipynb\" target=\"_parent\"><img src=\"https://colab.research.google.com/assets/colab-badge.svg\" alt=\"Open In Colab\"/></a>"
      ]
    },
    {
      "cell_type": "markdown",
      "source": [
        "[![Open In Colab](https://colab.research.google.com/assets/colab-badge.svg)](https://colab.research.google.com/github/mayala02/EnvDatSci2021/blob/main/CodeSprints/.ipynb_checkpoints/Automatic%20Data%20Downloads-checkpoint.ipynb)"
      ],
      "metadata": {
        "id": "56ODKYsyXjQs"
      }
    },
    {
      "cell_type": "markdown",
      "metadata": {
        "id": "uEFNo1nex_4I"
      },
      "source": [
        "# Automatic Data Downloads\n",
        "Satellite images and outputs from global earth systems models can be very large files. If we're dealing with time series, large spatial areas, or multivariate model outputs, we can quickly be moving into data volumes that exceed the memory and storage capacity of personal computers. To access these types of global data, we are interfacing with online databases. Today's lesson is intended to give you the tools to programmatically access online databases. These tools will enable you to use your personal computer to convert these large datasets into analysis-ready data for your research project. Specifically, today we'll learn to:\n",
        "\n",
        "1. Interpret directory structure of ftp and http addresses.\n",
        "2. Create a project directory on your local machine.\n",
        "3. Configure a .gitignore file to ignore raw data.\n",
        "4. Use the command line to download files from the internet.\n",
        "\n",
        "If there's time, we'll break into groups based on research interest and start utilizing APIs to search datasets on public geospatial data repositories that match the location and time period of your study area."
      ]
    },
    {
      "cell_type": "code",
      "execution_count": null,
      "metadata": {
        "id": "hH4MxPtBx_4K"
      },
      "outputs": [],
      "source": [
        "import pandas as pd\n",
        "from IPython.display import HTML\n",
        "import os\n",
        "import urllib.request"
      ]
    },
    {
      "cell_type": "markdown",
      "metadata": {
        "id": "XWTu1pQ6x_4L"
      },
      "source": [
        "## G is for *Generalizable* \n",
        "When we're making measurements of an earth system process, we often care deeply about how well your experimental results apply to other times/places. Since it is often too expensive or too difficult to collect in-situ samples of our earth systems process at all the times and locations that matter, environmental data science allows us to use statistical models to leverage globally available observations to improve the generalizability of our system. These models will generalize our inferences about our earth systems process in one of three ways:\n",
        "\n",
        "1. *Prediction*: can our model allow us to generalize our observations to out-of-sample times and locations? For example: will my model linking air temperature to green-up time from my experimental forest accurately apply to a forest 200 miles away? \n",
        "2. *Interpolation*: can our model allow us to \"fill in the gaps\" in our spatial/temporal sampling scale? For example: do my measurements of precipitation for my two precipitation gage locations accurately represent the total precipitation that fell in my watershed?\n",
        "3. *Diagnosis*: can our model help us to interpret what processes are either drivers of or covariates with our earth systems process, allowing us to improve our physical understanding of trends and variability in that system: for example: is air temperature or precipitation a more important driver of current cropping system productivity, and how might this impact cropping system function under climate change? \n",
        "\n",
        "### These global observations are often publically available to researchers on online geodatabases.\n",
        "For example:\n",
        " - NASA: https://earthdata.nasa.gov/\n",
        " - USGS: https://earthexplorer.usgs.gov/ \n",
        " - NOAA: https://psl.noaa.gov/data/gridded/ \n",
        " - Google: https://developers.google.com/earth-engine/datasets \n",
        " - NY State: https://cugir.library.cornell.edu/ \n"
      ]
    },
    {
      "cell_type": "markdown",
      "metadata": {
        "id": "Xcv1HhtAx_4L"
      },
      "source": [
        "## R is for *Reproducible*\n",
        "Since the raw data for our generalizable analysis is globally available, programmatically accessing our data gives us an important added benefit: we can design our version controlled, collaborative project repositories so they directly interface with these public geodatabases. That way, anyone who wants to can access the raw data required to reproduce our analytic workflow.\n",
        "\n",
        "A reminder on why reproducible science is so important:"
      ]
    },
    {
      "cell_type": "code",
      "execution_count": null,
      "metadata": {
        "id": "3MdtHCajx_4L",
        "outputId": "37df2120-1e3e-4842-f64b-e648f42828d2",
        "colab": {
          "base_uri": "https://localhost:8080/",
          "height": 579
        }
      },
      "outputs": [
        {
          "output_type": "stream",
          "name": "stderr",
          "text": [
            "/usr/local/lib/python3.7/dist-packages/IPython/core/display.py:701: UserWarning: Consider using IPython.display.IFrame instead\n",
            "  warnings.warn(\"Consider using IPython.display.IFrame instead\")\n"
          ]
        },
        {
          "output_type": "execute_result",
          "data": {
            "text/plain": [
              "<IPython.core.display.HTML object>"
            ],
            "text/html": [
              "<iframe width=\"930\" height=\"523\" src=\"https://www.youtube.com/embed/NGFO0kdbZmk\", frameborder=\"0\" allowfullscreen></iframe>"
            ]
          },
          "metadata": {},
          "execution_count": 3
        }
      ],
      "source": [
        "HTML('<iframe width=\"930\" height=\"523\" src=\"https://www.youtube.com/embed/NGFO0kdbZmk\", frameborder=\"0\" allowfullscreen></iframe>')"
      ]
    },
    {
      "cell_type": "markdown",
      "metadata": {
        "id": "LxyUNS_6x_4M"
      },
      "source": [
        "### Project Repository\n",
        "Your project repository is where you store all of the elements of your data science workflow. At its core, it should have folders for raw data, processed data, code, outputs, and images. A good project repository is:\n",
        "\n",
        "1. Human readable: use directory names that are easy to understand, includes a highly detailed README file that explains what's in each folder, how to sequence inputs and outputs to code files, and how to cite the repository.\n",
        "2. Machine readable - avoid funky characters OR SPACES.\n",
        "3. Supportive of sorting - If you have a list of input files, it’s nice to be able to sort them to quickly see what’s there and find what you need.\n",
        "\n",
        "You should also take extra steps to preserve raw data so it’s not modified. More on this later. \n",
        "\n",
        "We're going to create a new repository for your class project. The os package (os stands for **O**perating **S**ystem) allows you to manipulate files on your computer. Ask it what it does:"
      ]
    },
    {
      "cell_type": "code",
      "execution_count": null,
      "metadata": {
        "id": "_0QEX7-gx_4M"
      },
      "outputs": [],
      "source": [
        "?os"
      ]
    },
    {
      "cell_type": "code",
      "execution_count": null,
      "metadata": {
        "id": "3lgljuHyx_4N",
        "outputId": "1ce7c7fb-60b4-460d-cdd9-0867d8f7c1fc",
        "colab": {
          "base_uri": "https://localhost:8080/",
          "height": 35
        }
      },
      "outputs": [
        {
          "output_type": "execute_result",
          "data": {
            "text/plain": [
              "'/content'"
            ],
            "application/vnd.google.colaboratory.intrinsic+json": {
              "type": "string"
            }
          },
          "metadata": {},
          "execution_count": 3
        }
      ],
      "source": [
        "#For example, this command is the equivalent of ls in terminal:\n",
        "os.getcwd()"
      ]
    },
    {
      "cell_type": "code",
      "execution_count": null,
      "metadata": {
        "id": "8hcSgnbUx_4N"
      },
      "outputs": [],
      "source": [
        "#this command is the equivalent of:\n",
        "# mkdir H:/EnvDatSci/project\n",
        "os.mkdir('H:\\\\EnvDatSci\\\\project')\n",
        "\n",
        "#this command is the equivalent of:\n",
        "# cd H:/EnvDatSci/project\n",
        "os.chdir('H:\\\\EnvDatSci\\\\project')"
      ]
    },
    {
      "cell_type": "markdown",
      "metadata": {
        "id": "dxcLxlBZx_4N"
      },
      "source": [
        "### TASK 1: enter a command in the below cell to check and make sure you're in your project directory:"
      ]
    },
    {
      "cell_type": "code",
      "execution_count": null,
      "metadata": {
        "id": "ze-CSVgXx_4O",
        "colab": {
          "base_uri": "https://localhost:8080/",
          "height": 35
        },
        "outputId": "7b254234-96de-4fb4-aca5-786dd52c6f53"
      },
      "outputs": [
        {
          "output_type": "execute_result",
          "data": {
            "text/plain": [
              "'/content/H:\\\\EnvDatSci\\\\project'"
            ],
            "application/vnd.google.colaboratory.intrinsic+json": {
              "type": "string"
            }
          },
          "metadata": {},
          "execution_count": 5
        }
      ],
      "source": [
        "#Task 1:"
      ]
    },
    {
      "cell_type": "markdown",
      "metadata": {
        "id": "C7a6WrKjx_4O"
      },
      "source": [
        "### TASK 2: populate your project directory with appropriate files\n",
        "Read Chapter 4.1 of the textbook: https://www.earthdatascience.org/courses/earth-analytics/document-your-science/file-organization-101/\n",
        "\n",
        "Using os commands, populate your project directory with subfolders.\n",
        "\n",
        "Print your directory to the screen (hint: see Task 1)"
      ]
    },
    {
      "cell_type": "code",
      "execution_count": null,
      "metadata": {
        "id": "6cHmwS4ux_4O"
      },
      "outputs": [],
      "source": [
        "#Task 2:"
      ]
    },
    {
      "cell_type": "markdown",
      "metadata": {
        "id": "XSOVKOaJx_4O"
      },
      "source": [
        "### TASK 3: change the current working directory to your the folder where you intend to store raw data."
      ]
    },
    {
      "cell_type": "code",
      "execution_count": null,
      "metadata": {
        "id": "hFgEWHABx_4P",
        "colab": {
          "base_uri": "https://localhost:8080/",
          "height": 35
        },
        "outputId": "6370838b-1c4c-4b60-857e-0cc1070dda11"
      },
      "outputs": [
        {
          "output_type": "execute_result",
          "data": {
            "text/plain": [
              "'/content/H:\\\\EnvDatSci\\\\project/RawData'"
            ],
            "application/vnd.google.colaboratory.intrinsic+json": {
              "type": "string"
            }
          },
          "metadata": {},
          "execution_count": 7
        }
      ],
      "source": [
        "#Task 3:"
      ]
    },
    {
      "cell_type": "markdown",
      "metadata": {
        "id": "FA2c5LBkx_4P"
      },
      "source": [
        "## Decoding the file structure of online geodatabases\n",
        "Just like we can use code to find and access files on our local machine, we can use code to find and access files on public geodatabases. Since these geodatabases are version controlled, providing code that links to the online files helps prevent us from making redundant copies of data on the internet. Programatically accessing public geodatabases requires that we understand how the database itself has been organized. \n",
        "\n",
        " - Click on the following link to the National Oceanic and Atmospheric Association databse website: https://psl.noaa.gov/data/gridded/ \n",
        "\n",
        " - Navigate to the \"NCEP/NCAR Reanalysis dataset\"\n",
        " - Of the seven sections they've divided data into, click on \"Surface\" \n",
        " - Under \"Air Temperature: Daily\", click \"See list\"\n",
        " - Under \"Surface\", click \"See list\"\n"
      ]
    },
    {
      "cell_type": "markdown",
      "metadata": {
        "id": "7vUIR-bWx_4P"
      },
      "source": [
        "### TASK 4: Right click on the first link in the list, and select \"copy link\". Paste that link address below:\n"
      ]
    },
    {
      "cell_type": "markdown",
      "metadata": {
        "id": "Z4zk69QPx_4P"
      },
      "source": [
        "### Tasking your computer to download files\n",
        "Our goal is to write a script that can download files, extract a relevant subset of information from the files, and then delete the files. The first part of this task to to learn the filenames that we want to download. \n",
        "\n",
        "In the link above, we can break the filepath down into substrings, using basic text commands:"
      ]
    },
    {
      "cell_type": "code",
      "execution_count": null,
      "metadata": {
        "id": "uB9MMA0dx_4P",
        "colab": {
          "base_uri": "https://localhost:8080/"
        },
        "outputId": "5bd5e92a-4f18-410d-a7e0-93ea2dc4bb3e"
      },
      "outputs": [
        {
          "output_type": "stream",
          "name": "stdout",
          "text": [
            "https://downloads.psl.noaa.gov/Datasets/ncep.reanalysis.dailyavgs/surface/air.sig995.2010.nc\n"
          ]
        }
      ],
      "source": [
        "http_dir = \"https://downloads.psl.noaa.gov/Datasets/\"\n",
        "dataset = \"ncep.reanalysis.dailyavgs\"\n",
        "lev_type = \"surface\"\n",
        "variable = \"air.sig995.\"\n",
        "time = \"2010\"\n",
        "file_type = \".nc\"\n",
        "filepaths= http_dir + dataset + \"/\" + lev_type + \"/\" + variable + time + file_type\n",
        "print(filepaths)"
      ]
    },
    {
      "cell_type": "markdown",
      "metadata": {
        "id": "nB-sV5Kkx_4P"
      },
      "source": [
        "### Task 5: What happens if you click on that link? "
      ]
    },
    {
      "cell_type": "code",
      "execution_count": null,
      "metadata": {
        "id": "8JDZQ8OGx_4Q"
      },
      "outputs": [],
      "source": [
        "#You can also have python download the file for you using the <urllib.request.urlretrieve> function:\n",
        "?urllib.request.urlretrieve"
      ]
    },
    {
      "cell_type": "markdown",
      "source": [
        "### Task 6: What does the function urllib.request.urlretrieve do and how do we use it?"
      ],
      "metadata": {
        "id": "Vh-aQMMg-i9E"
      }
    },
    {
      "cell_type": "code",
      "execution_count": null,
      "metadata": {
        "id": "LwULJs8Wx_4Q",
        "colab": {
          "base_uri": "https://localhost:8080/"
        },
        "outputId": "ffa416fa-6dc6-400f-a40e-e578b8d33466"
      },
      "outputs": [
        {
          "output_type": "stream",
          "name": "stdout",
          "text": [
            "https://downloads.psl.noaa.gov/Datasets/ncep.reanalysis.dailyavgs/surface/air.sig995.2010.nc air.sig995.2010.nc\n"
          ]
        }
      ],
      "source": [
        "url = filepaths\n",
        "filename = variable + time + file_type\n",
        "urllib.request.urlretrieve(url, filename)\n",
        "print(url, filename)"
      ]
    },
    {
      "cell_type": "code",
      "execution_count": null,
      "metadata": {
        "id": "Q87Okf92x_4Q",
        "colab": {
          "base_uri": "https://localhost:8080/"
        },
        "outputId": "d70824c2-f5a1-4e16-d5b2-30537ace3824"
      },
      "outputs": [
        {
          "output_type": "execute_result",
          "data": {
            "text/plain": [
              "['air.sig995.2010.nc']"
            ]
          },
          "metadata": {},
          "execution_count": 11
        }
      ],
      "source": [
        "#what happens?\n",
        "os.listdir()"
      ]
    },
    {
      "cell_type": "markdown",
      "metadata": {
        "id": "hvnMxAebx_4Q"
      },
      "source": [
        "We can infer patterns from the database itself and generate the names of multiple files. For example, if we need five years of daily air temperature data:"
      ]
    },
    {
      "cell_type": "code",
      "execution_count": null,
      "metadata": {
        "id": "6Zs4hBcmx_4Q",
        "colab": {
          "base_uri": "https://localhost:8080/"
        },
        "outputId": "79df3a33-97f2-4cbb-95d4-0f110cb7b727"
      },
      "outputs": [
        {
          "output_type": "stream",
          "name": "stdout",
          "text": [
            "0    https://downloads.psl.noaa.gov/Datasets/ncep.r...\n",
            "1    https://downloads.psl.noaa.gov/Datasets/ncep.r...\n",
            "2    https://downloads.psl.noaa.gov/Datasets/ncep.r...\n",
            "3    https://downloads.psl.noaa.gov/Datasets/ncep.r...\n",
            "4    https://downloads.psl.noaa.gov/Datasets/ncep.r...\n",
            "dtype: object\n"
          ]
        }
      ],
      "source": [
        "time =pd.Series(list(range(1965,1970)))\n",
        "time = time.apply(str)\n",
        "filepaths= http_dir + dataset + \"/\" + lev_type + \"/\" + variable + time + file_type\n",
        "print(filepaths)"
      ]
    },
    {
      "cell_type": "markdown",
      "metadata": {
        "id": "G3p2jWcpx_4Q"
      },
      "source": [
        "### TASK 7: Write a \"for\" loop that downloads all five years worth of air temperature data into you working directory. Print the contents of your directory to the screen."
      ]
    },
    {
      "cell_type": "code",
      "execution_count": null,
      "metadata": {
        "id": "0kJD89Xnx_4Q",
        "colab": {
          "base_uri": "https://localhost:8080/"
        },
        "outputId": "bb834d92-9b1e-4600-aa4a-00dd4bd898a6"
      },
      "outputs": [
        {
          "output_type": "stream",
          "name": "stdout",
          "text": [
            "5\n",
            "https://downloads.psl.noaa.gov/Datasets/ncep.reanalysis.dailyavgs/surface/air.sig995.1965.nc air.sig995.1965.nc\n",
            "https://downloads.psl.noaa.gov/Datasets/ncep.reanalysis.dailyavgs/surface/air.sig995.1966.nc air.sig995.1966.nc\n",
            "https://downloads.psl.noaa.gov/Datasets/ncep.reanalysis.dailyavgs/surface/air.sig995.1967.nc air.sig995.1967.nc\n",
            "https://downloads.psl.noaa.gov/Datasets/ncep.reanalysis.dailyavgs/surface/air.sig995.1968.nc air.sig995.1968.nc\n",
            "https://downloads.psl.noaa.gov/Datasets/ncep.reanalysis.dailyavgs/surface/air.sig995.1969.nc air.sig995.1969.nc\n"
          ]
        },
        {
          "output_type": "execute_result",
          "data": {
            "text/plain": [
              "['air.sig995.1966.nc',\n",
              " 'air.sig995.1969.nc',\n",
              " 'air.sig995.1965.nc',\n",
              " 'air.sig995.1967.nc',\n",
              " 'air.sig995.1968.nc',\n",
              " 'air.sig995.2010.nc']"
            ]
          },
          "metadata": {},
          "execution_count": 14
        }
      ],
      "source": [
        "#Task 7"
      ]
    }
  ],
  "metadata": {
    "kernelspec": {
      "display_name": "Python 3",
      "language": "python",
      "name": "python3"
    },
    "language_info": {
      "codemirror_mode": {
        "name": "ipython",
        "version": 3
      },
      "file_extension": ".py",
      "mimetype": "text/x-python",
      "name": "python",
      "nbconvert_exporter": "python",
      "pygments_lexer": "ipython3",
      "version": "3.8.5"
    },
    "colab": {
      "provenance": [],
      "collapsed_sections": [],
      "include_colab_link": true
    }
  },
  "nbformat": 4,
  "nbformat_minor": 0
}